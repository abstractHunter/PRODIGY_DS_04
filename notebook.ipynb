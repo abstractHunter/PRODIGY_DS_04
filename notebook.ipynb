{
 "cells": [
  {
   "cell_type": "code",
   "execution_count": null,
   "metadata": {},
   "outputs": [],
   "source": [
    "import pandas as pd\n",
    "import matplotlib.pyplot as plt\n",
    "import seaborn as sns"
   ]
  },
  {
   "cell_type": "code",
   "execution_count": null,
   "metadata": {},
   "outputs": [],
   "source": [
    "columns = ['tweet_id', 'entity', 'sentiment', 'tweet_content']\n",
    "data = pd.read_csv('data.csv', names=columns, header=None)\n",
    "data.head()"
   ]
  },
  {
   "cell_type": "code",
   "execution_count": null,
   "metadata": {},
   "outputs": [],
   "source": [
    "data.shape"
   ]
  },
  {
   "cell_type": "code",
   "execution_count": null,
   "metadata": {},
   "outputs": [],
   "source": [
    "data.info()"
   ]
  },
  {
   "cell_type": "code",
   "execution_count": null,
   "metadata": {},
   "outputs": [],
   "source": [
    "data.isnull().sum()"
   ]
  },
  {
   "cell_type": "code",
   "execution_count": null,
   "metadata": {},
   "outputs": [],
   "source": [
    "data.dropna(inplace=True)\n",
    "data.isnull().sum()"
   ]
  },
  {
   "cell_type": "code",
   "execution_count": null,
   "metadata": {},
   "outputs": [],
   "source": [
    "data.nunique()"
   ]
  },
  {
   "cell_type": "code",
   "execution_count": null,
   "metadata": {},
   "outputs": [],
   "source": [
    "data.duplicated().sum()"
   ]
  },
  {
   "cell_type": "code",
   "execution_count": null,
   "metadata": {},
   "outputs": [],
   "source": [
    "data.drop_duplicates(inplace=True)\n",
    "data.duplicated().sum()"
   ]
  },
  {
   "cell_type": "code",
   "execution_count": null,
   "metadata": {},
   "outputs": [],
   "source": [
    "data.shape"
   ]
  },
  {
   "cell_type": "code",
   "execution_count": null,
   "metadata": {},
   "outputs": [],
   "source": [
    "# sentiment distribution\n",
    "plt.figure(figsize=(12, 6))\n",
    "sns.countplot(data=data, x=data['sentiment'], order=['Positive', 'Negative', 'Neutral', 'Irrelevant'], hue=data['sentiment'], palette='viridis')\n",
    "plt.xlabel('Sentiment')\n",
    "plt.ylabel('Number of tweets')\n",
    "plt.title('Number of tweets per sentiment')\n",
    "plt.show()"
   ]
  },
  {
   "cell_type": "code",
   "execution_count": null,
   "metadata": {},
   "outputs": [],
   "source": [
    "# tweets per entity\n",
    "entity_count = data['entity'].value_counts()\n",
    "\n",
    "plt.figure(figsize=(12, 8))\n",
    "sns.countplot(data=data, y=data['entity'], order=entity_count.index, palette='viridis', hue='entity')\n",
    "plt.xlabel('Number of tweets')\n",
    "plt.ylabel('Entity')\n",
    "plt.title('Number of tweets per entity')\n",
    "plt.show()"
   ]
  },
  {
   "cell_type": "code",
   "execution_count": null,
   "metadata": {},
   "outputs": [],
   "source": [
    "# sentiment distribution per entity\n",
    "entity_count = data['entity'].value_counts()\n",
    "\n",
    "plt.figure(figsize=(12, 8))\n",
    "sns.countplot(data=data, y=data['entity'], order=entity_count.index, palette='viridis', hue='sentiment')\n",
    "plt.xlabel('Number of tweets')\n",
    "plt.ylabel('Entity')\n",
    "plt.title('Number of tweets per entity')\n",
    "plt.show()"
   ]
  },
  {
   "cell_type": "code",
   "execution_count": null,
   "metadata": {},
   "outputs": [],
   "source": [
    "# message length distribution per sentiment\n",
    "data['message_length'] = data['tweet_content'].apply(lambda x: len(x))\n",
    "\n",
    "fig, ax = plt.subplots(1, 4, figsize=(20, 6))\n",
    "\n",
    "for i, sentiment in enumerate(data['sentiment'].unique()):\n",
    "    sns.histplot(data=data[data['sentiment'] == sentiment], x='message_length', ax=ax[i], color='skyblue', kde=True, bins=30)\n",
    "    ax[i].set_title(sentiment)\n",
    "    ax[i].set_xlabel('Message length')\n",
    "    ax[i].set_ylabel('Number of tweets')\n",
    "\n",
    "# plt.tight_layout()\n",
    "plt.show()"
   ]
  },
  {
   "cell_type": "code",
   "execution_count": null,
   "metadata": {},
   "outputs": [],
   "source": [
    "# companies with most positive tweets\n",
    "positive_tweets = data[data['sentiment'] == 'Positive']\n",
    "entity_count = positive_tweets['entity'].value_counts()\n",
    "\n",
    "plt.figure(figsize=(12, 8))\n",
    "sns.countplot(data=positive_tweets, y=positive_tweets['entity'], order=entity_count.index, palette='viridis')\n",
    "plt.xlabel('Number of tweets')\n",
    "plt.ylabel('Entity')\n",
    "plt.title('Number of positive tweets per entity')\n",
    "plt.show()"
   ]
  },
  {
   "cell_type": "code",
   "execution_count": null,
   "metadata": {},
   "outputs": [],
   "source": [
    "# companies with most negative tweets\n",
    "negative_tweets = data[data['sentiment'] == 'Negative']\n",
    "entity_count = negative_tweets['entity'].value_counts()\n",
    "\n",
    "plt.figure(figsize=(12, 8))\n",
    "sns.countplot(data=negative_tweets, y=negative_tweets['entity'], order=entity_count.index, palette='viridis')\n",
    "plt.xlabel('Number of tweets')\n",
    "plt.ylabel('Entity')\n",
    "plt.title('Number of negative tweets per entity')\n",
    "plt.show()\n"
   ]
  }
 ],
 "metadata": {
  "kernelspec": {
   "display_name": "base",
   "language": "python",
   "name": "python3"
  },
  "language_info": {
   "codemirror_mode": {
    "name": "ipython",
    "version": 3
   },
   "file_extension": ".py",
   "mimetype": "text/x-python",
   "name": "python",
   "nbconvert_exporter": "python",
   "pygments_lexer": "ipython3",
   "version": "3.12.4"
  }
 },
 "nbformat": 4,
 "nbformat_minor": 2
}
